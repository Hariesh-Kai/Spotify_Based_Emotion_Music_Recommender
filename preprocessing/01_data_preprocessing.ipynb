{
 "cells": [
  {
   "cell_type": "code",
   "execution_count": 1,
   "metadata": {},
   "outputs": [],
   "source": [
    "import pandas as pd\n",
    "import re"
   ]
  },
  {
   "cell_type": "code",
   "execution_count": 1,
   "metadata": {},
   "outputs": [
    {
     "ename": "NameError",
     "evalue": "name 'pd' is not defined",
     "output_type": "error",
     "traceback": [
      "\u001b[1;31m---------------------------------------------------------------------------\u001b[0m",
      "\u001b[1;31mNameError\u001b[0m                                 Traceback (most recent call last)",
      "Cell \u001b[1;32mIn[1], line 2\u001b[0m\n\u001b[0;32m      1\u001b[0m \u001b[38;5;66;03m# Step 1: Load the dataset\u001b[39;00m\n\u001b[1;32m----> 2\u001b[0m df \u001b[38;5;241m=\u001b[39m \u001b[43mpd\u001b[49m\u001b[38;5;241m.\u001b[39mread_csv(\u001b[38;5;124m'\u001b[39m\u001b[38;5;124mD:/Music_Recommender/data/spotify_millsongdata.csv\u001b[39m\u001b[38;5;124m'\u001b[39m)\n",
      "\u001b[1;31mNameError\u001b[0m: name 'pd' is not defined"
     ]
    }
   ],
   "source": [
    "# Step 1: Load the dataset\n",
    "df = pd.read_csv('D:/Music_Recommender/data/spotify_millsongdata.csv')"
   ]
  },
  {
   "cell_type": "code",
   "execution_count": 3,
   "metadata": {},
   "outputs": [
    {
     "data": {
      "text/plain": [
       "57650"
      ]
     },
     "execution_count": 3,
     "metadata": {},
     "output_type": "execute_result"
    }
   ],
   "source": [
    "len(df)"
   ]
  },
  {
   "cell_type": "code",
   "execution_count": 4,
   "metadata": {},
   "outputs": [
    {
     "data": {
      "text/plain": [
       "Index(['artist', 'song', 'link', 'text'], dtype='object')"
      ]
     },
     "execution_count": 4,
     "metadata": {},
     "output_type": "execute_result"
    }
   ],
   "source": [
    "df.columns"
   ]
  },
  {
   "cell_type": "code",
   "execution_count": 5,
   "metadata": {},
   "outputs": [],
   "source": [
    "# Step 2: Preprocess the lyrics in the 'text' column\n",
    "def preprocess_lyrics(lyrics):\n",
    "    lyrics = lyrics.lower()  # Convert to lowercase\n",
    "    lyrics = re.sub(r'[^a-z\\s]', '', lyrics)  # Remove special characters\n",
    "    return lyrics\n",
    "\n",
    "df['cleaned_lyrics'] = df['text'].apply(preprocess_lyrics)"
   ]
  },
  {
   "cell_type": "code",
   "execution_count": 6,
   "metadata": {},
   "outputs": [],
   "source": [
    "# Step 3: Load NRC Emotion Lexicon\n",
    "nrc_df = pd.read_csv('D:/Music_Recommender/data/nrc_lexicon.csv', encoding='latin1')  # Replace with your lexicon path\n",
    "nrc_df = nrc_df[nrc_df['association'] == 1]"
   ]
  },
  {
   "cell_type": "code",
   "execution_count": 7,
   "metadata": {},
   "outputs": [],
   "source": [
    "# Step 4: Define emotion mapping for your 7 categories\n",
    "emotion_mapping = {\n",
    "    'anger': 'angry',\n",
    "    'joy': 'happy',\n",
    "    'positive': 'happy',\n",
    "    'anticipation': 'happy',\n",
    "    'disgust': 'disgust',\n",
    "    'fear': 'fear',\n",
    "    'neutral': 'neutral',\n",
    "    'sadness': 'sad',\n",
    "    'negative': 'sad',\n",
    "    'surprise': 'surprise'\n",
    "}"
   ]
  },
  {
   "cell_type": "code",
   "execution_count": 8,
   "metadata": {},
   "outputs": [],
   "source": [
    "# Step 5: Create an emotion dictionary from the NRC Lexicon\n",
    "emotion_dict = {}\n",
    "for _, row in nrc_df.iterrows():\n",
    "    word = row['word']\n",
    "    emotion = row['emotion']\n",
    "    # Map the NRC emotion to one of the 7 target emotions\n",
    "    target_emotion = emotion_mapping.get(emotion, 'neutral')\n",
    "    if target_emotion not in emotion_dict:\n",
    "        emotion_dict[target_emotion] = []\n",
    "    emotion_dict[target_emotion].append(word)\n",
    "\n",
    "# Step 6: Categorize songs based on the 'text' (lyrics) column\n",
    "def categorize_song(lyrics):\n",
    "    scores = {emotion: 0 for emotion in emotion_dict.keys()}\n",
    "    for word in lyrics.split():\n",
    "        for emotion, keywords in emotion_dict.items():\n",
    "            if word in keywords:\n",
    "                scores[emotion] += 1\n",
    "\n",
    "    # Get the emotion with the highest score\n",
    "    max_emotion = max(scores, key=scores.get)\n",
    "    return max_emotion if max(scores.values()) > 0 else 'neutral'\n",
    "\n",
    "df['emotion'] = df['cleaned_lyrics'].apply(categorize_song\n",
    "                                           )"
   ]
  },
  {
   "cell_type": "code",
   "execution_count": 9,
   "metadata": {},
   "outputs": [],
   "source": [
    "# Step 7: Filter the songs based on the emotion and keep relevant columns\n",
    "happy_df = df[df['emotion'] == 'happy'][['artist','link', 'song','text']]\n",
    "sad_df = df[df['emotion'] == 'sad'][['artist','link', 'song','text']]\n",
    "surprise_df = df[df['emotion'] == 'surprise'][['artist','link', 'song','text']]\n",
    "angry_df = df[df['emotion'] == 'angry'][['artist','link', 'song','text']]\n",
    "disgust_df = df[df['emotion'] == 'disgust'][['artist','link', 'song','text']]\n",
    "fear_df = df[df['emotion'] == 'fear'][['artist','link', 'song','text']]\n",
    "neutral_df = df[df['emotion'] == 'neutral'][['artist','link', 'song','text']]"
   ]
  },
  {
   "cell_type": "code",
   "execution_count": 10,
   "metadata": {},
   "outputs": [],
   "source": [
    "\n",
    "# Step 8: Save the results to separate CSV files\n",
    "happy_df.to_csv('D:/Music_Recommender/data/songs/happy.csv', index=False)\n",
    "sad_df.to_csv('D:/Music_Recommender/data/songs/sad.csv', index=False)\n",
    "surprise_df.to_csv('D:/Music_Recommender/data/songs/surprise.csv', index=False)\n",
    "angry_df.to_csv('D:/Music_Recommender/data/songs/angry.csv', index=False)\n",
    "disgust_df.to_csv('D:/Music_Recommender/data/songs/disgust.csv', index=False)\n",
    "fear_df.to_csv('D:/Music_Recommender/data/songs/fear.csv', index=False)\n",
    "neutral_df.to_csv('D:/Music_Recommender/data/songs/neutral.csv', index=False)"
   ]
  }
 ],
 "metadata": {
  "kernelspec": {
   "display_name": "venv",
   "language": "python",
   "name": "python3"
  },
  "language_info": {
   "codemirror_mode": {
    "name": "ipython",
    "version": 3
   },
   "file_extension": ".py",
   "mimetype": "text/x-python",
   "name": "python",
   "nbconvert_exporter": "python",
   "pygments_lexer": "ipython3",
   "version": "3.12.0"
  }
 },
 "nbformat": 4,
 "nbformat_minor": 2
}
